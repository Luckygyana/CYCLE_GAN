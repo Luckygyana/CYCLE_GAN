{
  "nbformat": 4,
  "nbformat_minor": 0,
  "metadata": {
    "colab": {
      "name": "Untitled1.ipynb",
      "provenance": [],
      "authorship_tag": "ABX9TyMkdIuD4flWBGCHD70o/+Dv",
      "include_colab_link": true
    },
    "kernelspec": {
      "name": "python3",
      "display_name": "Python 3"
    },
    "accelerator": "GPU"
  },
  "cells": [
    {
      "cell_type": "markdown",
      "metadata": {
        "id": "view-in-github",
        "colab_type": "text"
      },
      "source": [
        "<a href=\"https://colab.research.google.com/github/Luckygyana/CYCLE_GAN/blob/master/Untitled1.ipynb\" target=\"_parent\"><img src=\"https://colab.research.google.com/assets/colab-badge.svg\" alt=\"Open In Colab\"/></a>"
      ]
    },
    {
      "cell_type": "code",
      "metadata": {
        "id": "yBpBZh0IEKQ5",
        "colab_type": "code",
        "outputId": "19550412-4323-487c-ebad-f589bc8ad409",
        "colab": {
          "base_uri": "https://localhost:8080/",
          "height": 34
        }
      },
      "source": [
        "pwd"
      ],
      "execution_count": 33,
      "outputs": [
        {
          "output_type": "execute_result",
          "data": {
            "text/plain": [
              "'/content'"
            ]
          },
          "metadata": {
            "tags": []
          },
          "execution_count": 33
        }
      ]
    },
    {
      "cell_type": "code",
      "metadata": {
        "id": "b3IpShySEMXu",
        "colab_type": "code",
        "colab": {}
      },
      "source": [
        "import tensorflow as tf\n",
        "import matplotlib.pyplot as plt\n",
        "from tensorflow.examples.tutorials.mnist import  input_data\n",
        "import numpy as np\n",
        "import scipy.ndimage.interpolation"
      ],
      "execution_count": 0,
      "outputs": []
    },
    {
      "cell_type": "code",
      "metadata": {
        "id": "U9YhN7fxE4n4",
        "colab_type": "code",
        "colab": {}
      },
      "source": [
        "leaarning_rate=0.0002\n",
        "batch_size=32\n",
        "epochs=100000"
      ],
      "execution_count": 0,
      "outputs": []
    },
    {
      "cell_type": "code",
      "metadata": {
        "id": "vuO5ilspFIZJ",
        "colab_type": "code",
        "colab": {}
      },
      "source": [
        "image_dimension=784"
      ],
      "execution_count": 0,
      "outputs": []
    },
    {
      "cell_type": "code",
      "metadata": {
        "id": "dsKjiGPYFLNP",
        "colab_type": "code",
        "colab": {}
      },
      "source": [
        "H_dim=128\n"
      ],
      "execution_count": 0,
      "outputs": []
    },
    {
      "cell_type": "code",
      "metadata": {
        "id": "r_jeh_jSFOQh",
        "colab_type": "code",
        "colab": {}
      },
      "source": [
        "def xavier_init(shape):\n",
        "  return tf.random_normal(shape=shape,stddev=1./tf.sqrt(shape[0]/2.0))"
      ],
      "execution_count": 0,
      "outputs": []
    },
    {
      "cell_type": "code",
      "metadata": {
        "id": "hV10FL1eFnLd",
        "colab_type": "code",
        "colab": {}
      },
      "source": [
        "X_A=tf.placeholder(tf.float32,shape=[None,image_dimension])\n",
        "X_B=tf.placeholder(tf.float32,shape=[None,image_dimension])"
      ],
      "execution_count": 0,
      "outputs": []
    },
    {
      "cell_type": "code",
      "metadata": {
        "id": "YEO3ipe-F5dz",
        "colab_type": "code",
        "colab": {}
      },
      "source": [
        "Disc_A_w={\"disc_H\" : tf.Variable(xavier_init([image_dimension,H_dim])),\n",
        "          \"disc_final\" : tf.Variable(xavier_init([H_dim,1]))}\n",
        "\n",
        "Disc_A_Bias={\"disc_H\" : tf.Variable(xavier_init([H_dim])),\n",
        "          \"disc_final\" : tf.Variable(xavier_init([1]))}\n",
        "\n",
        "Disc_B_w={\"disc_H\" : tf.Variable(xavier_init([image_dimension,H_dim])),\n",
        "          \"disc_final\" : tf.Variable(xavier_init([H_dim,1]))}\n",
        "\n",
        "Disc_B_Bias={\"disc_H\" : tf.Variable(xavier_init([H_dim])),\n",
        "          \"disc_final\" : tf.Variable(xavier_init([1]))}\n",
        "\n",
        "\n",
        "Gen_AB_w={\"Gen_H\" : tf.Variable(xavier_init([image_dimension,H_dim])),\n",
        "          \"Gen_final\" : tf.Variable(xavier_init([H_dim,image_dimension]))}\n",
        "\n",
        "Gen_AB_Bias={\"Gen_H\" : tf.Variable(xavier_init([H_dim])),\n",
        "          \"Gen_final\" : tf.Variable(xavier_init([image_dimension]))}\n",
        "\n",
        "Gen_BA_w={\"Gen_H\" : tf.Variable(xavier_init([image_dimension,H_dim])),\n",
        "          \"Gen_final\" : tf.Variable(xavier_init([H_dim,image_dimension]))}\n",
        "\n",
        "Gen_BA_Bias={\"Gen_H\" : tf.Variable(xavier_init([H_dim])),\n",
        "          \"Gen_final\" : tf.Variable(xavier_init([image_dimension]))}"
      ],
      "execution_count": 0,
      "outputs": []
    },
    {
      "cell_type": "code",
      "metadata": {
        "id": "-T5SPfnSID6f",
        "colab_type": "code",
        "colab": {}
      },
      "source": [
        "def Disc_A(x):\n",
        "  D_hidden_layer=tf.nn.relu(tf.add(tf.matmul(x,Disc_A_w[\"disc_H\"]),Disc_A_Bias[\"disc_H\"]))\n",
        "  disc_output=tf.add(tf.matmul(D_hidden_layer,Disc_A_w[\"disc_final\"]),Disc_A_Bias[\"disc_final\"])\n",
        "  disc_prob_output=tf.nn.sigmoid(disc_output)\n",
        "  return disc_prob_output\n",
        "\n",
        "def Disc_B(x):\n",
        "  D_hidden_layer=tf.nn.relu(tf.add(tf.matmul(x,Disc_B_w[\"disc_H\"]),Disc_B_Bias[\"disc_H\"]))\n",
        "  disc_output=tf.add(tf.matmul(D_hidden_layer,Disc_B_w[\"disc_final\"]),Disc_B_Bias[\"disc_final\"])\n",
        "  disc_prob_output=tf.nn.sigmoid(disc_output)\n",
        "  return disc_prob_output\n",
        "\n",
        "def Gen_AB(x):\n",
        "  G_hidden_layer=tf.nn.relu(tf.add(tf.matmul(x,Gen_AB_w[\"Gen_H\"]),Gen_AB_Bias[\"Gen_H\"]))\n",
        "  gen_output=tf.add(tf.matmul(G_hidden_layer,Gen_AB_w[\"Gen_final\"]),Gen_AB_Bias[\"Gen_final\"])\n",
        "  gen_prob_output=tf.nn.sigmoid(gen_output)\n",
        "  return gen_prob_output\n",
        "\n",
        "def Gen_BA(x):\n",
        "  G_hidden_layer=tf.nn.relu(tf.add(tf.matmul(x,Gen_BA_w[\"Gen_H\"]),Gen_BA_Bias[\"Gen_H\"]))\n",
        "  gen_output=tf.add(tf.matmul(G_hidden_layer,Gen_BA_w[\"Gen_final\"]),Gen_BA_Bias[\"Gen_final\"])\n",
        "  gen_prob_output=tf.nn.sigmoid(gen_output)\n",
        "  return gen_prob_output"
      ],
      "execution_count": 0,
      "outputs": []
    },
    {
      "cell_type": "code",
      "metadata": {
        "id": "Q91P9J_pLbnB",
        "colab_type": "code",
        "colab": {}
      },
      "source": [
        "X_BA=Gen_BA(X_B)\n",
        "Disc_A_real=Disc_A(X_A)\n",
        "Disc_A_fake=Disc_A(X_BA)"
      ],
      "execution_count": 0,
      "outputs": []
    },
    {
      "cell_type": "code",
      "metadata": {
        "id": "oyH53JBpLbqN",
        "colab_type": "code",
        "colab": {}
      },
      "source": [
        "X_AB=Gen_AB(X_A)\n",
        "Disc_B_real=Disc_B(X_B)\n",
        "Disc_B_fake=Disc_B(X_AB)"
      ],
      "execution_count": 0,
      "outputs": []
    },
    {
      "cell_type": "code",
      "metadata": {
        "id": "2PTr8IRgLbt9",
        "colab_type": "code",
        "colab": {}
      },
      "source": [
        "Loss_Disc_A =(tf.reduce_mean(tf.square(Disc_A_real-tf.ones_like(Disc_A_real))+tf.reduce_mean(tf.square(Disc_A_fake))))/2.0\n",
        "Loss_Disc_B =(tf.reduce_mean(tf.square(Disc_B_real-tf.ones_like(Disc_B_real))+tf.reduce_mean(tf.square(Disc_B_fake))))/2.0\n",
        "\n",
        "Disc_Loss=Loss_Disc_A+Loss_Disc_B"
      ],
      "execution_count": 0,
      "outputs": []
    },
    {
      "cell_type": "code",
      "metadata": {
        "id": "f1xmm8g9N1qX",
        "colab_type": "code",
        "colab": {}
      },
      "source": [
        "X_BAB=Gen_AB(X_BA)\n",
        "X_ABA=Gen_BA(X_AB)"
      ],
      "execution_count": 0,
      "outputs": []
    },
    {
      "cell_type": "code",
      "metadata": {
        "id": "gvAdCQYPN15b",
        "colab_type": "code",
        "colab": {}
      },
      "source": [
        "Loss_Gen_A=tf.reduce_mean(tf.square(Disc_B_fake-tf.ones_like(Disc_B_fake)))\n",
        "Loss_Gen_B=tf.reduce_mean(tf.square(Disc_A_fake-tf.ones_like(Disc_A_fake)))\n",
        "\n",
        "Loss_total=Loss_Gen_A+Loss_Gen_B"
      ],
      "execution_count": 0,
      "outputs": []
    },
    {
      "cell_type": "code",
      "metadata": {
        "id": "fAnCDdZuN18j",
        "colab_type": "code",
        "colab": {}
      },
      "source": [
        "Loss_Recon_B=tf.reduce_mean(10*tf.abs((X_B-X_BAB)))\n",
        "Loss_Recon_A=tf.reduce_mean(10*tf.abs((X_A-X_ABA)))\n",
        "\n",
        "Loss_recon_total=Loss_Recon_A+Loss_Recon_B"
      ],
      "execution_count": 0,
      "outputs": []
    },
    {
      "cell_type": "code",
      "metadata": {
        "id": "v9h78vZ7N1_j",
        "colab_type": "code",
        "colab": {}
      },
      "source": [
        "Gen_Loss=Loss_recon_total+Loss_total"
      ],
      "execution_count": 0,
      "outputs": []
    },
    {
      "cell_type": "code",
      "metadata": {
        "id": "FQP6WUrDN2Ec",
        "colab_type": "code",
        "colab": {}
      },
      "source": [
        "Disc_param = [Disc_A_w[\"disc_H\"],Disc_A_w[\"disc_final\"],Disc_A_Bias[\"disc_H\"],Disc_A_Bias[\"disc_final\"],\n",
        "             Disc_B_w[\"disc_H\"],Disc_B_w[\"disc_final\"],Disc_B_Bias[\"disc_H\"],Disc_B_Bias[\"disc_final\"] ]"
      ],
      "execution_count": 0,
      "outputs": []
    },
    {
      "cell_type": "code",
      "metadata": {
        "id": "nUvoNrBIRL5Y",
        "colab_type": "code",
        "colab": {}
      },
      "source": [
        "Gen_param=[Gen_AB_w[\"Gen_H\"],Gen_AB_w[\"Gen_final\"],Gen_AB_Bias[\"Gen_H\"],Gen_AB_Bias[\"Gen_final\"],\n",
        "          Gen_BA_w[\"Gen_H\"],Gen_BA_w[\"Gen_final\"],Gen_BA_Bias[\"Gen_H\"],Gen_BA_Bias[\"Gen_final\"] ]"
      ],
      "execution_count": 0,
      "outputs": []
    },
    {
      "cell_type": "code",
      "metadata": {
        "id": "lgMt-gdVRMBb",
        "colab_type": "code",
        "colab": {}
      },
      "source": [
        "Gen_optimize=tf.train.AdamOptimizer(learning_rate=leaarning_rate).minimize(Gen_Loss,var_list=Gen_param)\n",
        "Disc_optimize=tf.train.AdamOptimizer(learning_rate=leaarning_rate).minimize(Disc_Loss,var_list=Disc_param)\n"
      ],
      "execution_count": 0,
      "outputs": []
    },
    {
      "cell_type": "code",
      "metadata": {
        "id": "ZcO9xEU4RMEL",
        "colab_type": "code",
        "outputId": "935c5984-b87c-4524-ff28-452430c19606",
        "colab": {
          "base_uri": "https://localhost:8080/",
          "height": 34
        }
      },
      "source": [
        "! ls"
      ],
      "execution_count": 52,
      "outputs": [
        {
          "output_type": "stream",
          "text": [
            "MNIST_data  sample_data\n"
          ],
          "name": "stdout"
        }
      ]
    },
    {
      "cell_type": "code",
      "metadata": {
        "id": "Hnp2bE8TRMHo",
        "colab_type": "code",
        "outputId": "1ff342ae-d178-44f0-f859-9af9c6f5c050",
        "colab": {
          "base_uri": "https://localhost:8080/",
          "height": 84
        }
      },
      "source": [
        "mnist = input_data.read_data_sets('MNIST_data', one_hot=True)"
      ],
      "execution_count": 53,
      "outputs": [
        {
          "output_type": "stream",
          "text": [
            "Extracting MNIST_data/train-images-idx3-ubyte.gz\n",
            "Extracting MNIST_data/train-labels-idx1-ubyte.gz\n",
            "Extracting MNIST_data/t10k-images-idx3-ubyte.gz\n",
            "Extracting MNIST_data/t10k-labels-idx1-ubyte.gz\n"
          ],
          "name": "stdout"
        }
      ]
    },
    {
      "cell_type": "code",
      "metadata": {
        "id": "xDYIb0SMRL_y",
        "colab_type": "code",
        "colab": {}
      },
      "source": [
        "X_train=mnist.train.images\n",
        "mid=int(X_train.shape[0]/2)\n"
      ],
      "execution_count": 0,
      "outputs": []
    },
    {
      "cell_type": "code",
      "metadata": {
        "id": "5_Acu4_URL8w",
        "colab_type": "code",
        "colab": {}
      },
      "source": [
        "X_train_real=X_train[:mid]\n"
      ],
      "execution_count": 0,
      "outputs": []
    },
    {
      "cell_type": "code",
      "metadata": {
        "id": "RVVAZ8wwUEGg",
        "colab_type": "code",
        "colab": {}
      },
      "source": [
        "X_train_rot=X_train[mid:].reshape(-1,28,28)\n",
        "X_train_r0t=scipy.ndimage.interpolation.rotate(X_train_rot,90,axes=(1,2))\n",
        "X_train_rot=X_train_rot.reshape(-1,28*28)"
      ],
      "execution_count": 0,
      "outputs": []
    },
    {
      "cell_type": "code",
      "metadata": {
        "id": "tvpbpqlTUiW8",
        "colab_type": "code",
        "colab": {}
      },
      "source": [
        "def shuffle_data(x,size):\n",
        "  start_index=np.random.randint(0,x.shape[0]-size)\n",
        "  return x[start_index:start_index+size]"
      ],
      "execution_count": 0,
      "outputs": []
    },
    {
      "cell_type": "code",
      "metadata": {
        "id": "M_295Z_FVBAp",
        "colab_type": "code",
        "colab": {}
      },
      "source": [
        "init=tf.global_variables_initializer()"
      ],
      "execution_count": 0,
      "outputs": []
    },
    {
      "cell_type": "code",
      "metadata": {
        "id": "4kJ3WqfpVFwp",
        "colab_type": "code",
        "colab": {}
      },
      "source": [
        "sess=tf.Session()"
      ],
      "execution_count": 0,
      "outputs": []
    },
    {
      "cell_type": "code",
      "metadata": {
        "id": "gc_NgaRAVIt1",
        "colab_type": "code",
        "colab": {}
      },
      "source": [
        "sess.run(init)"
      ],
      "execution_count": 0,
      "outputs": []
    },
    {
      "cell_type": "code",
      "metadata": {
        "id": "IMnq-so-VLbn",
        "colab_type": "code",
        "outputId": "3a313987-894a-447a-a898-a95596d99cb0",
        "colab": {
          "base_uri": "https://localhost:8080/",
          "height": 1000
        }
      },
      "source": [
        "for epoch in range(epochs):\n",
        "  X_A_batch=shuffle_data(X_train_real,batch_size)\n",
        "  X_B_batch=shuffle_data(X_train_rot,batch_size)\n",
        "\n",
        "  _,Disc_Loss_epoch=sess.run([Disc_optimize,Disc_Loss],feed_dict={X_A:X_A_batch,X_B:X_B_batch})\n",
        "  _,Gen_Loss_epoch=sess.run([Gen_optimize,Gen_Loss],feed_dict={X_A:X_A_batch,X_B:X_B_batch})\n",
        "\n",
        "\n",
        "  if epoch%200==0:\n",
        "    print(\"Steps : {0} , Disc loss : {1} ,Gen loss : {2}\".format(epoch,Disc_Loss_epoch,Gen_Loss_epoch))"
      ],
      "execution_count": 61,
      "outputs": [
        {
          "output_type": "stream",
          "text": [
            "Steps : 0 , Disc loss : 0.5704872608184814 ,Gen loss : 10.698774337768555\n",
            "Steps : 200 , Disc loss : 0.15576332807540894 ,Gen loss : 4.564916610717773\n",
            "Steps : 400 , Disc loss : 0.1589723378419876 ,Gen loss : 5.534916877746582\n",
            "Steps : 600 , Disc loss : 0.107048898935318 ,Gen loss : 5.265183448791504\n",
            "Steps : 800 , Disc loss : 0.12824110686779022 ,Gen loss : 5.075490951538086\n",
            "Steps : 1000 , Disc loss : 0.08174707740545273 ,Gen loss : 4.873394966125488\n",
            "Steps : 1200 , Disc loss : 0.11219154298305511 ,Gen loss : 4.829124450683594\n",
            "Steps : 1400 , Disc loss : 0.06935207545757294 ,Gen loss : 4.60045862197876\n",
            "Steps : 1600 , Disc loss : 0.08523488789796829 ,Gen loss : 4.542620658874512\n",
            "Steps : 1800 , Disc loss : 0.06927961111068726 ,Gen loss : 4.5523247718811035\n",
            "Steps : 2000 , Disc loss : 0.07123885303735733 ,Gen loss : 4.296916484832764\n",
            "Steps : 2200 , Disc loss : 0.03513594716787338 ,Gen loss : 4.376134872436523\n",
            "Steps : 2400 , Disc loss : 0.06161046028137207 ,Gen loss : 4.39997673034668\n",
            "Steps : 2600 , Disc loss : 0.034590836614370346 ,Gen loss : 4.461410999298096\n",
            "Steps : 2800 , Disc loss : 0.0292484313249588 ,Gen loss : 4.415946960449219\n",
            "Steps : 3000 , Disc loss : 0.02884259633719921 ,Gen loss : 4.548830032348633\n",
            "Steps : 3200 , Disc loss : 0.041495949029922485 ,Gen loss : 4.293262004852295\n",
            "Steps : 3400 , Disc loss : 0.035968150943517685 ,Gen loss : 4.556175708770752\n",
            "Steps : 3600 , Disc loss : 0.0397818461060524 ,Gen loss : 4.329588890075684\n",
            "Steps : 3800 , Disc loss : 0.01880393736064434 ,Gen loss : 4.287619113922119\n",
            "Steps : 4000 , Disc loss : 0.03581063821911812 ,Gen loss : 3.985525608062744\n",
            "Steps : 4200 , Disc loss : 0.024463657289743423 ,Gen loss : 4.472367763519287\n",
            "Steps : 4400 , Disc loss : 0.02026211842894554 ,Gen loss : 4.277032852172852\n",
            "Steps : 4600 , Disc loss : 0.015795834362506866 ,Gen loss : 4.467247009277344\n",
            "Steps : 4800 , Disc loss : 0.01589839532971382 ,Gen loss : 4.470569610595703\n",
            "Steps : 5000 , Disc loss : 0.03199167549610138 ,Gen loss : 4.4698991775512695\n",
            "Steps : 5200 , Disc loss : 0.01925254613161087 ,Gen loss : 4.578770637512207\n",
            "Steps : 5400 , Disc loss : 0.020267929881811142 ,Gen loss : 4.19163703918457\n",
            "Steps : 5600 , Disc loss : 0.010685745626688004 ,Gen loss : 4.582771301269531\n",
            "Steps : 5800 , Disc loss : 0.043127067387104034 ,Gen loss : 4.239088535308838\n",
            "Steps : 6000 , Disc loss : 0.07071875035762787 ,Gen loss : 4.321084499359131\n",
            "Steps : 6200 , Disc loss : 0.03275241330265999 ,Gen loss : 4.403969764709473\n",
            "Steps : 6400 , Disc loss : 0.033606670796871185 ,Gen loss : 4.12022066116333\n",
            "Steps : 6600 , Disc loss : 0.03282564878463745 ,Gen loss : 4.2755656242370605\n",
            "Steps : 6800 , Disc loss : 0.036395344883203506 ,Gen loss : 4.184052467346191\n",
            "Steps : 7000 , Disc loss : 0.044381704181432724 ,Gen loss : 3.873204469680786\n",
            "Steps : 7200 , Disc loss : 0.06540630757808685 ,Gen loss : 4.04557991027832\n",
            "Steps : 7400 , Disc loss : 0.08685790747404099 ,Gen loss : 4.303954601287842\n",
            "Steps : 7600 , Disc loss : 0.07651708275079727 ,Gen loss : 4.193901062011719\n",
            "Steps : 7800 , Disc loss : 0.10887401551008224 ,Gen loss : 3.9402859210968018\n",
            "Steps : 8000 , Disc loss : 0.07556353509426117 ,Gen loss : 4.010477066040039\n",
            "Steps : 8200 , Disc loss : 0.045126236975193024 ,Gen loss : 4.309160232543945\n",
            "Steps : 8400 , Disc loss : 0.06928513199090958 ,Gen loss : 4.224765777587891\n",
            "Steps : 8600 , Disc loss : 0.07418210804462433 ,Gen loss : 4.088131904602051\n",
            "Steps : 8800 , Disc loss : 0.10507188737392426 ,Gen loss : 3.8193373680114746\n",
            "Steps : 9000 , Disc loss : 0.13462473452091217 ,Gen loss : 3.8912525177001953\n",
            "Steps : 9200 , Disc loss : 0.11776166409254074 ,Gen loss : 3.919300079345703\n",
            "Steps : 9400 , Disc loss : 0.08655967563390732 ,Gen loss : 3.7910568714141846\n",
            "Steps : 9600 , Disc loss : 0.1298677623271942 ,Gen loss : 3.6932554244995117\n",
            "Steps : 9800 , Disc loss : 0.13700877130031586 ,Gen loss : 3.7641730308532715\n",
            "Steps : 10000 , Disc loss : 0.17470800876617432 ,Gen loss : 3.7371737957000732\n",
            "Steps : 10200 , Disc loss : 0.15863195061683655 ,Gen loss : 3.8722567558288574\n",
            "Steps : 10400 , Disc loss : 0.1922304481267929 ,Gen loss : 3.5441792011260986\n",
            "Steps : 10600 , Disc loss : 0.15594170987606049 ,Gen loss : 3.498863697052002\n",
            "Steps : 10800 , Disc loss : 0.16789834201335907 ,Gen loss : 3.471550226211548\n",
            "Steps : 11000 , Disc loss : 0.12841525673866272 ,Gen loss : 3.8740768432617188\n",
            "Steps : 11200 , Disc loss : 0.2200799286365509 ,Gen loss : 3.6566739082336426\n",
            "Steps : 11400 , Disc loss : 0.1459254026412964 ,Gen loss : 3.5967864990234375\n",
            "Steps : 11600 , Disc loss : 0.19806607067584991 ,Gen loss : 3.435859203338623\n",
            "Steps : 11800 , Disc loss : 0.17410987615585327 ,Gen loss : 3.4361155033111572\n",
            "Steps : 12000 , Disc loss : 0.19220775365829468 ,Gen loss : 3.6700639724731445\n",
            "Steps : 12200 , Disc loss : 0.21035590767860413 ,Gen loss : 3.5403599739074707\n",
            "Steps : 12400 , Disc loss : 0.2944234311580658 ,Gen loss : 3.411679744720459\n",
            "Steps : 12600 , Disc loss : 0.2096324861049652 ,Gen loss : 3.3571057319641113\n",
            "Steps : 12800 , Disc loss : 0.31461912393569946 ,Gen loss : 3.1607844829559326\n",
            "Steps : 13000 , Disc loss : 0.2343350648880005 ,Gen loss : 3.2431764602661133\n",
            "Steps : 13200 , Disc loss : 0.20236966013908386 ,Gen loss : 3.469322681427002\n",
            "Steps : 13400 , Disc loss : 0.2704657316207886 ,Gen loss : 3.1545281410217285\n",
            "Steps : 13600 , Disc loss : 0.19624856114387512 ,Gen loss : 3.3520898818969727\n",
            "Steps : 13800 , Disc loss : 0.32829946279525757 ,Gen loss : 3.488556385040283\n",
            "Steps : 14000 , Disc loss : 0.2906612753868103 ,Gen loss : 3.1593246459960938\n",
            "Steps : 14200 , Disc loss : 0.23467431962490082 ,Gen loss : 3.5372564792633057\n",
            "Steps : 14400 , Disc loss : 0.21591612696647644 ,Gen loss : 3.4703195095062256\n",
            "Steps : 14600 , Disc loss : 0.268098384141922 ,Gen loss : 3.2086963653564453\n",
            "Steps : 14800 , Disc loss : 0.2966373562812805 ,Gen loss : 3.1579835414886475\n",
            "Steps : 15000 , Disc loss : 0.24319550395011902 ,Gen loss : 3.164954662322998\n",
            "Steps : 15200 , Disc loss : 0.21038515865802765 ,Gen loss : 3.31491756439209\n",
            "Steps : 15400 , Disc loss : 0.3030359148979187 ,Gen loss : 3.1137819290161133\n",
            "Steps : 15600 , Disc loss : 0.23071010410785675 ,Gen loss : 3.091655731201172\n",
            "Steps : 15800 , Disc loss : 0.23155060410499573 ,Gen loss : 3.095527172088623\n",
            "Steps : 16000 , Disc loss : 0.31183117628097534 ,Gen loss : 3.309292793273926\n",
            "Steps : 16200 , Disc loss : 0.18704670667648315 ,Gen loss : 3.1837358474731445\n",
            "Steps : 16400 , Disc loss : 0.23362040519714355 ,Gen loss : 3.015312671661377\n",
            "Steps : 16600 , Disc loss : 0.3172914981842041 ,Gen loss : 3.056149482727051\n",
            "Steps : 16800 , Disc loss : 0.27312126755714417 ,Gen loss : 2.98545241355896\n",
            "Steps : 17000 , Disc loss : 0.25648683309555054 ,Gen loss : 2.9267983436584473\n",
            "Steps : 17200 , Disc loss : 0.28514623641967773 ,Gen loss : 2.9866247177124023\n",
            "Steps : 17400 , Disc loss : 0.3697572350502014 ,Gen loss : 2.7163896560668945\n",
            "Steps : 17600 , Disc loss : 0.3219742178916931 ,Gen loss : 3.0248119831085205\n",
            "Steps : 17800 , Disc loss : 0.2366706132888794 ,Gen loss : 3.2096128463745117\n",
            "Steps : 18000 , Disc loss : 0.4683625400066376 ,Gen loss : 2.812575578689575\n",
            "Steps : 18200 , Disc loss : 0.22297200560569763 ,Gen loss : 3.0196762084960938\n",
            "Steps : 18400 , Disc loss : 0.28709009289741516 ,Gen loss : 2.8786494731903076\n",
            "Steps : 18600 , Disc loss : 0.33407288789749146 ,Gen loss : 2.9335286617279053\n",
            "Steps : 18800 , Disc loss : 0.2661191523075104 ,Gen loss : 3.0263609886169434\n",
            "Steps : 19000 , Disc loss : 0.36965376138687134 ,Gen loss : 2.907954692840576\n",
            "Steps : 19200 , Disc loss : 0.3286733031272888 ,Gen loss : 2.989841938018799\n",
            "Steps : 19400 , Disc loss : 0.272832453250885 ,Gen loss : 2.8839807510375977\n",
            "Steps : 19600 , Disc loss : 0.3004406690597534 ,Gen loss : 2.778388738632202\n",
            "Steps : 19800 , Disc loss : 0.2384534478187561 ,Gen loss : 2.7443084716796875\n",
            "Steps : 20000 , Disc loss : 0.29634639620780945 ,Gen loss : 2.934260845184326\n",
            "Steps : 20200 , Disc loss : 0.28304287791252136 ,Gen loss : 2.871596097946167\n",
            "Steps : 20400 , Disc loss : 0.31183934211730957 ,Gen loss : 3.0988576412200928\n",
            "Steps : 20600 , Disc loss : 0.250349223613739 ,Gen loss : 2.938626527786255\n",
            "Steps : 20800 , Disc loss : 0.2991531491279602 ,Gen loss : 2.8307604789733887\n",
            "Steps : 21000 , Disc loss : 0.2942664623260498 ,Gen loss : 2.9319591522216797\n",
            "Steps : 21200 , Disc loss : 0.2791799306869507 ,Gen loss : 2.860611915588379\n",
            "Steps : 21400 , Disc loss : 0.29326537251472473 ,Gen loss : 2.676274061203003\n",
            "Steps : 21600 , Disc loss : 0.2911260724067688 ,Gen loss : 2.626392364501953\n",
            "Steps : 21800 , Disc loss : 0.2790231704711914 ,Gen loss : 2.6551833152770996\n",
            "Steps : 22000 , Disc loss : 0.2825435996055603 ,Gen loss : 2.8557796478271484\n",
            "Steps : 22200 , Disc loss : 0.22270262241363525 ,Gen loss : 2.745462656021118\n",
            "Steps : 22400 , Disc loss : 0.29322582483291626 ,Gen loss : 2.7500691413879395\n",
            "Steps : 22600 , Disc loss : 0.23828870058059692 ,Gen loss : 2.891490936279297\n",
            "Steps : 22800 , Disc loss : 0.2696044445037842 ,Gen loss : 2.8379592895507812\n",
            "Steps : 23000 , Disc loss : 0.37744730710983276 ,Gen loss : 2.6510708332061768\n",
            "Steps : 23200 , Disc loss : 0.2527373433113098 ,Gen loss : 2.8897600173950195\n",
            "Steps : 23400 , Disc loss : 0.28323227167129517 ,Gen loss : 2.670328140258789\n",
            "Steps : 23600 , Disc loss : 0.2551104426383972 ,Gen loss : 2.7348649501800537\n",
            "Steps : 23800 , Disc loss : 0.27924108505249023 ,Gen loss : 2.743842124938965\n",
            "Steps : 24000 , Disc loss : 0.2455805540084839 ,Gen loss : 2.7374777793884277\n",
            "Steps : 24200 , Disc loss : 0.355624258518219 ,Gen loss : 2.635296583175659\n",
            "Steps : 24400 , Disc loss : 0.3006126880645752 ,Gen loss : 2.658458948135376\n",
            "Steps : 24600 , Disc loss : 0.2064485400915146 ,Gen loss : 2.7440195083618164\n",
            "Steps : 24800 , Disc loss : 0.29831066727638245 ,Gen loss : 2.6737966537475586\n",
            "Steps : 25000 , Disc loss : 0.2442868947982788 ,Gen loss : 2.6137242317199707\n",
            "Steps : 25200 , Disc loss : 0.375572144985199 ,Gen loss : 2.6362342834472656\n",
            "Steps : 25400 , Disc loss : 0.28053778409957886 ,Gen loss : 2.6932168006896973\n",
            "Steps : 25600 , Disc loss : 0.302262544631958 ,Gen loss : 2.606431007385254\n",
            "Steps : 25800 , Disc loss : 0.20952962338924408 ,Gen loss : 2.632528066635132\n",
            "Steps : 26000 , Disc loss : 0.32070469856262207 ,Gen loss : 2.5762059688568115\n",
            "Steps : 26200 , Disc loss : 0.3184995651245117 ,Gen loss : 2.4528965950012207\n",
            "Steps : 26400 , Disc loss : 0.3105837106704712 ,Gen loss : 2.4430010318756104\n",
            "Steps : 26600 , Disc loss : 0.2629848122596741 ,Gen loss : 2.692972183227539\n",
            "Steps : 26800 , Disc loss : 0.30009564757347107 ,Gen loss : 2.5477256774902344\n",
            "Steps : 27000 , Disc loss : 0.26998770236968994 ,Gen loss : 2.5287070274353027\n",
            "Steps : 27200 , Disc loss : 0.272391676902771 ,Gen loss : 2.5171241760253906\n",
            "Steps : 27400 , Disc loss : 0.2762511372566223 ,Gen loss : 2.6703195571899414\n",
            "Steps : 27600 , Disc loss : 0.39742791652679443 ,Gen loss : 2.374342203140259\n",
            "Steps : 27800 , Disc loss : 0.3577391803264618 ,Gen loss : 2.6429500579833984\n",
            "Steps : 28000 , Disc loss : 0.32098978757858276 ,Gen loss : 2.56136417388916\n",
            "Steps : 28200 , Disc loss : 0.28721874952316284 ,Gen loss : 2.5985913276672363\n",
            "Steps : 28400 , Disc loss : 0.2853602170944214 ,Gen loss : 2.553590774536133\n",
            "Steps : 28600 , Disc loss : 0.34267085790634155 ,Gen loss : 2.5341076850891113\n",
            "Steps : 28800 , Disc loss : 0.36851224303245544 ,Gen loss : 2.596184492111206\n",
            "Steps : 29000 , Disc loss : 0.3004123270511627 ,Gen loss : 2.525353193283081\n",
            "Steps : 29200 , Disc loss : 0.2457345426082611 ,Gen loss : 2.599818706512451\n",
            "Steps : 29400 , Disc loss : 0.40466931462287903 ,Gen loss : 2.4166433811187744\n",
            "Steps : 29600 , Disc loss : 0.27076828479766846 ,Gen loss : 2.6455094814300537\n",
            "Steps : 29800 , Disc loss : 0.22237834334373474 ,Gen loss : 2.637533187866211\n",
            "Steps : 30000 , Disc loss : 0.28826725482940674 ,Gen loss : 2.5375471115112305\n",
            "Steps : 30200 , Disc loss : 0.26850348711013794 ,Gen loss : 2.48283052444458\n",
            "Steps : 30400 , Disc loss : 0.24974004924297333 ,Gen loss : 2.390277147293091\n",
            "Steps : 30600 , Disc loss : 0.25788068771362305 ,Gen loss : 2.706634044647217\n",
            "Steps : 30800 , Disc loss : 0.32259413599967957 ,Gen loss : 2.2931766510009766\n",
            "Steps : 31000 , Disc loss : 0.39986562728881836 ,Gen loss : 2.365325450897217\n",
            "Steps : 31200 , Disc loss : 0.33974719047546387 ,Gen loss : 2.5015625953674316\n",
            "Steps : 31400 , Disc loss : 0.3407721519470215 ,Gen loss : 2.4206178188323975\n",
            "Steps : 31600 , Disc loss : 0.35052716732025146 ,Gen loss : 2.2778995037078857\n",
            "Steps : 31800 , Disc loss : 0.34565114974975586 ,Gen loss : 2.3190994262695312\n",
            "Steps : 32000 , Disc loss : 0.2869857847690582 ,Gen loss : 2.394468069076538\n",
            "Steps : 32200 , Disc loss : 0.327196329832077 ,Gen loss : 2.467026948928833\n",
            "Steps : 32400 , Disc loss : 0.28130602836608887 ,Gen loss : 2.3994052410125732\n",
            "Steps : 32600 , Disc loss : 0.30490368604660034 ,Gen loss : 2.3296337127685547\n",
            "Steps : 32800 , Disc loss : 0.3177793622016907 ,Gen loss : 2.3670504093170166\n",
            "Steps : 33000 , Disc loss : 0.2463693618774414 ,Gen loss : 2.5330512523651123\n",
            "Steps : 33200 , Disc loss : 0.2700689435005188 ,Gen loss : 2.489093780517578\n",
            "Steps : 33400 , Disc loss : 0.33445167541503906 ,Gen loss : 2.4037528038024902\n",
            "Steps : 33600 , Disc loss : 0.2885504961013794 ,Gen loss : 2.4677512645721436\n",
            "Steps : 33800 , Disc loss : 0.3163212537765503 ,Gen loss : 2.333434581756592\n",
            "Steps : 34000 , Disc loss : 0.3783647418022156 ,Gen loss : 2.3495259284973145\n",
            "Steps : 34200 , Disc loss : 0.3103712797164917 ,Gen loss : 2.5619587898254395\n",
            "Steps : 34400 , Disc loss : 0.2493806779384613 ,Gen loss : 2.420283794403076\n",
            "Steps : 34600 , Disc loss : 0.2806697487831116 ,Gen loss : 2.3512063026428223\n",
            "Steps : 34800 , Disc loss : 0.2746742367744446 ,Gen loss : 2.5845398902893066\n",
            "Steps : 35000 , Disc loss : 0.2636476159095764 ,Gen loss : 2.3464243412017822\n",
            "Steps : 35200 , Disc loss : 0.22747260332107544 ,Gen loss : 2.424062490463257\n",
            "Steps : 35400 , Disc loss : 0.326232373714447 ,Gen loss : 2.3072261810302734\n",
            "Steps : 35600 , Disc loss : 0.2776568531990051 ,Gen loss : 2.4457955360412598\n",
            "Steps : 35800 , Disc loss : 0.27364325523376465 ,Gen loss : 2.4055063724517822\n",
            "Steps : 36000 , Disc loss : 0.3116459548473358 ,Gen loss : 2.2663371562957764\n",
            "Steps : 36200 , Disc loss : 0.3327040374279022 ,Gen loss : 2.2742772102355957\n",
            "Steps : 36400 , Disc loss : 0.28397712111473083 ,Gen loss : 2.2783708572387695\n",
            "Steps : 36600 , Disc loss : 0.28266432881355286 ,Gen loss : 2.5215706825256348\n",
            "Steps : 36800 , Disc loss : 0.2531372010707855 ,Gen loss : 2.3085694313049316\n",
            "Steps : 37000 , Disc loss : 0.29903894662857056 ,Gen loss : 2.448333263397217\n",
            "Steps : 37200 , Disc loss : 0.3727203607559204 ,Gen loss : 2.122767925262451\n",
            "Steps : 37400 , Disc loss : 0.3061177730560303 ,Gen loss : 2.499748468399048\n",
            "Steps : 37600 , Disc loss : 0.2571471929550171 ,Gen loss : 2.45121693611145\n",
            "Steps : 37800 , Disc loss : 0.33383893966674805 ,Gen loss : 2.3482108116149902\n",
            "Steps : 38000 , Disc loss : 0.34783655405044556 ,Gen loss : 2.2176167964935303\n",
            "Steps : 38200 , Disc loss : 0.34055453538894653 ,Gen loss : 2.2890141010284424\n",
            "Steps : 38400 , Disc loss : 0.35095009207725525 ,Gen loss : 2.1545917987823486\n",
            "Steps : 38600 , Disc loss : 0.2762356698513031 ,Gen loss : 2.3495635986328125\n",
            "Steps : 38800 , Disc loss : 0.32654643058776855 ,Gen loss : 2.2576112747192383\n",
            "Steps : 39000 , Disc loss : 0.3037417531013489 ,Gen loss : 2.4151153564453125\n",
            "Steps : 39200 , Disc loss : 0.2596902549266815 ,Gen loss : 2.4417436122894287\n",
            "Steps : 39400 , Disc loss : 0.31471288204193115 ,Gen loss : 2.334101676940918\n",
            "Steps : 39600 , Disc loss : 0.22066617012023926 ,Gen loss : 2.607328414916992\n",
            "Steps : 39800 , Disc loss : 0.33475443720817566 ,Gen loss : 2.5812020301818848\n",
            "Steps : 40000 , Disc loss : 0.3084128499031067 ,Gen loss : 2.4405832290649414\n",
            "Steps : 40200 , Disc loss : 0.3520914912223816 ,Gen loss : 2.4473559856414795\n",
            "Steps : 40400 , Disc loss : 0.34333476424217224 ,Gen loss : 2.3515820503234863\n",
            "Steps : 40600 , Disc loss : 0.33709442615509033 ,Gen loss : 2.200368881225586\n",
            "Steps : 40800 , Disc loss : 0.34328508377075195 ,Gen loss : 2.230242967605591\n",
            "Steps : 41000 , Disc loss : 0.42893826961517334 ,Gen loss : 2.2168936729431152\n",
            "Steps : 41200 , Disc loss : 0.27640679478645325 ,Gen loss : 2.236682176589966\n",
            "Steps : 41400 , Disc loss : 0.3718637228012085 ,Gen loss : 2.3105154037475586\n",
            "Steps : 41600 , Disc loss : 0.3481297492980957 ,Gen loss : 2.324272632598877\n",
            "Steps : 41800 , Disc loss : 0.3033323287963867 ,Gen loss : 2.426497220993042\n",
            "Steps : 42000 , Disc loss : 0.32210659980773926 ,Gen loss : 2.214362144470215\n",
            "Steps : 42200 , Disc loss : 0.29231131076812744 ,Gen loss : 2.372831344604492\n",
            "Steps : 42400 , Disc loss : 0.3217354416847229 ,Gen loss : 2.362570285797119\n",
            "Steps : 42600 , Disc loss : 0.32811665534973145 ,Gen loss : 2.100820779800415\n",
            "Steps : 42800 , Disc loss : 0.36277246475219727 ,Gen loss : 2.270894765853882\n",
            "Steps : 43000 , Disc loss : 0.32288938760757446 ,Gen loss : 2.144388198852539\n",
            "Steps : 43200 , Disc loss : 0.293275386095047 ,Gen loss : 2.2979986667633057\n",
            "Steps : 43400 , Disc loss : 0.3320404887199402 ,Gen loss : 2.43371319770813\n",
            "Steps : 43600 , Disc loss : 0.2436974048614502 ,Gen loss : 2.4020094871520996\n",
            "Steps : 43800 , Disc loss : 0.3546193242073059 ,Gen loss : 2.2335166931152344\n",
            "Steps : 44000 , Disc loss : 0.27660542726516724 ,Gen loss : 2.3293826580047607\n",
            "Steps : 44200 , Disc loss : 0.32998764514923096 ,Gen loss : 2.3761212825775146\n",
            "Steps : 44400 , Disc loss : 0.3644452691078186 ,Gen loss : 2.141824245452881\n",
            "Steps : 44600 , Disc loss : 0.3119140863418579 ,Gen loss : 2.3567333221435547\n",
            "Steps : 44800 , Disc loss : 0.3697373867034912 ,Gen loss : 2.2407138347625732\n",
            "Steps : 45000 , Disc loss : 0.3565560579299927 ,Gen loss : 2.194913864135742\n",
            "Steps : 45200 , Disc loss : 0.24844269454479218 ,Gen loss : 2.3206238746643066\n",
            "Steps : 45400 , Disc loss : 0.32534053921699524 ,Gen loss : 2.2486648559570312\n",
            "Steps : 45600 , Disc loss : 0.26259517669677734 ,Gen loss : 2.269002676010132\n",
            "Steps : 45800 , Disc loss : 0.2969740629196167 ,Gen loss : 2.20843505859375\n",
            "Steps : 46000 , Disc loss : 0.2427351474761963 ,Gen loss : 2.242352247238159\n",
            "Steps : 46200 , Disc loss : 0.30716612935066223 ,Gen loss : 2.356478214263916\n",
            "Steps : 46400 , Disc loss : 0.250143826007843 ,Gen loss : 2.2649874687194824\n",
            "Steps : 46600 , Disc loss : 0.27560490369796753 ,Gen loss : 2.232999324798584\n",
            "Steps : 46800 , Disc loss : 0.3004251718521118 ,Gen loss : 2.2603628635406494\n",
            "Steps : 47000 , Disc loss : 0.3202718496322632 ,Gen loss : 2.3048958778381348\n",
            "Steps : 47200 , Disc loss : 0.3193228244781494 ,Gen loss : 2.245187759399414\n",
            "Steps : 47400 , Disc loss : 0.2823614478111267 ,Gen loss : 2.248079299926758\n",
            "Steps : 47600 , Disc loss : 0.32581180334091187 ,Gen loss : 2.2827937602996826\n",
            "Steps : 47800 , Disc loss : 0.30713793635368347 ,Gen loss : 2.3095030784606934\n",
            "Steps : 48000 , Disc loss : 0.29485005140304565 ,Gen loss : 2.3049774169921875\n",
            "Steps : 48200 , Disc loss : 0.2376365065574646 ,Gen loss : 2.4575510025024414\n",
            "Steps : 48400 , Disc loss : 0.26305484771728516 ,Gen loss : 2.2621984481811523\n",
            "Steps : 48600 , Disc loss : 0.36882564425468445 ,Gen loss : 2.2065320014953613\n",
            "Steps : 48800 , Disc loss : 0.2841342091560364 ,Gen loss : 2.2401583194732666\n",
            "Steps : 49000 , Disc loss : 0.3451371192932129 ,Gen loss : 2.207810401916504\n",
            "Steps : 49200 , Disc loss : 0.30801069736480713 ,Gen loss : 2.235987663269043\n",
            "Steps : 49400 , Disc loss : 0.2768668830394745 ,Gen loss : 2.3002796173095703\n",
            "Steps : 49600 , Disc loss : 0.2262093722820282 ,Gen loss : 2.4809036254882812\n",
            "Steps : 49800 , Disc loss : 0.3323676884174347 ,Gen loss : 2.2849202156066895\n",
            "Steps : 50000 , Disc loss : 0.2574273943901062 ,Gen loss : 2.1896653175354004\n",
            "Steps : 50200 , Disc loss : 0.3608555495738983 ,Gen loss : 1.9703624248504639\n",
            "Steps : 50400 , Disc loss : 0.23324380815029144 ,Gen loss : 2.318836212158203\n",
            "Steps : 50600 , Disc loss : 0.33067357540130615 ,Gen loss : 2.2914252281188965\n",
            "Steps : 50800 , Disc loss : 0.3621041178703308 ,Gen loss : 2.141190767288208\n",
            "Steps : 51000 , Disc loss : 0.2805326282978058 ,Gen loss : 2.258875608444214\n",
            "Steps : 51200 , Disc loss : 0.3432242274284363 ,Gen loss : 2.2089548110961914\n",
            "Steps : 51400 , Disc loss : 0.27184462547302246 ,Gen loss : 2.211728811264038\n",
            "Steps : 51600 , Disc loss : 0.31194043159484863 ,Gen loss : 2.3636837005615234\n",
            "Steps : 51800 , Disc loss : 0.34016525745391846 ,Gen loss : 2.2390799522399902\n",
            "Steps : 52000 , Disc loss : 0.3058921694755554 ,Gen loss : 2.316272258758545\n",
            "Steps : 52200 , Disc loss : 0.32721754908561707 ,Gen loss : 2.1731390953063965\n",
            "Steps : 52400 , Disc loss : 0.28228914737701416 ,Gen loss : 2.148650884628296\n",
            "Steps : 52600 , Disc loss : 0.39335882663726807 ,Gen loss : 2.107905864715576\n",
            "Steps : 52800 , Disc loss : 0.25328677892684937 ,Gen loss : 2.2903287410736084\n",
            "Steps : 53000 , Disc loss : 0.2606050968170166 ,Gen loss : 2.2067160606384277\n",
            "Steps : 53200 , Disc loss : 0.2674195170402527 ,Gen loss : 2.1933889389038086\n",
            "Steps : 53400 , Disc loss : 0.3114618957042694 ,Gen loss : 2.334648609161377\n",
            "Steps : 53600 , Disc loss : 0.20176424086093903 ,Gen loss : 2.2849087715148926\n",
            "Steps : 53800 , Disc loss : 0.30778437852859497 ,Gen loss : 2.247378349304199\n",
            "Steps : 54000 , Disc loss : 0.24160529673099518 ,Gen loss : 2.342843770980835\n",
            "Steps : 54200 , Disc loss : 0.2603861689567566 ,Gen loss : 2.3089380264282227\n",
            "Steps : 54400 , Disc loss : 0.2895243167877197 ,Gen loss : 2.235565423965454\n",
            "Steps : 54600 , Disc loss : 0.27569448947906494 ,Gen loss : 2.214425802230835\n",
            "Steps : 54800 , Disc loss : 0.3371928930282593 ,Gen loss : 2.324172019958496\n",
            "Steps : 55000 , Disc loss : 0.2554168403148651 ,Gen loss : 2.2080914974212646\n",
            "Steps : 55200 , Disc loss : 0.2602410912513733 ,Gen loss : 2.3367841243743896\n",
            "Steps : 55400 , Disc loss : 0.2678202986717224 ,Gen loss : 2.245410203933716\n",
            "Steps : 55600 , Disc loss : 0.35050004720687866 ,Gen loss : 2.233170986175537\n",
            "Steps : 55800 , Disc loss : 0.2998010516166687 ,Gen loss : 2.244307518005371\n",
            "Steps : 56000 , Disc loss : 0.35756221413612366 ,Gen loss : 1.9761286973953247\n",
            "Steps : 56200 , Disc loss : 0.34350162744522095 ,Gen loss : 2.178144693374634\n",
            "Steps : 56400 , Disc loss : 0.29657286405563354 ,Gen loss : 2.2225987911224365\n",
            "Steps : 56600 , Disc loss : 0.283292293548584 ,Gen loss : 2.1434104442596436\n",
            "Steps : 56800 , Disc loss : 0.26736003160476685 ,Gen loss : 2.1528160572052\n",
            "Steps : 57000 , Disc loss : 0.27170634269714355 ,Gen loss : 2.152099609375\n",
            "Steps : 57200 , Disc loss : 0.331285297870636 ,Gen loss : 2.207033157348633\n",
            "Steps : 57400 , Disc loss : 0.327601820230484 ,Gen loss : 2.2450761795043945\n",
            "Steps : 57600 , Disc loss : 0.27278971672058105 ,Gen loss : 2.1638433933258057\n",
            "Steps : 57800 , Disc loss : 0.27601101994514465 ,Gen loss : 2.3666322231292725\n",
            "Steps : 58000 , Disc loss : 0.2920134365558624 ,Gen loss : 2.1789355278015137\n",
            "Steps : 58200 , Disc loss : 0.32349058985710144 ,Gen loss : 2.0726425647735596\n",
            "Steps : 58400 , Disc loss : 0.31588995456695557 ,Gen loss : 2.1827540397644043\n",
            "Steps : 58600 , Disc loss : 0.2830483317375183 ,Gen loss : 2.18849515914917\n",
            "Steps : 58800 , Disc loss : 0.3486160635948181 ,Gen loss : 2.2646074295043945\n",
            "Steps : 59000 , Disc loss : 0.29995885491371155 ,Gen loss : 2.1130642890930176\n",
            "Steps : 59200 , Disc loss : 0.3113052248954773 ,Gen loss : 2.357229232788086\n",
            "Steps : 59400 , Disc loss : 0.2999066114425659 ,Gen loss : 2.134645462036133\n",
            "Steps : 59600 , Disc loss : 0.2750876545906067 ,Gen loss : 2.317652940750122\n",
            "Steps : 59800 , Disc loss : 0.28240007162094116 ,Gen loss : 2.25242018699646\n",
            "Steps : 60000 , Disc loss : 0.34108966588974 ,Gen loss : 2.103081703186035\n",
            "Steps : 60200 , Disc loss : 0.23588357865810394 ,Gen loss : 2.379220962524414\n",
            "Steps : 60400 , Disc loss : 0.28507888317108154 ,Gen loss : 2.1170883178710938\n",
            "Steps : 60600 , Disc loss : 0.2935296297073364 ,Gen loss : 2.122244358062744\n",
            "Steps : 60800 , Disc loss : 0.23916128277778625 ,Gen loss : 2.349769353866577\n",
            "Steps : 61000 , Disc loss : 0.24629804491996765 ,Gen loss : 2.2171666622161865\n",
            "Steps : 61200 , Disc loss : 0.2682640552520752 ,Gen loss : 2.3153059482574463\n",
            "Steps : 61400 , Disc loss : 0.3630865812301636 ,Gen loss : 2.192676544189453\n",
            "Steps : 61600 , Disc loss : 0.30523890256881714 ,Gen loss : 2.1882121562957764\n",
            "Steps : 61800 , Disc loss : 0.3316669762134552 ,Gen loss : 2.227725028991699\n",
            "Steps : 62000 , Disc loss : 0.27234309911727905 ,Gen loss : 2.35190486907959\n",
            "Steps : 62200 , Disc loss : 0.24889646470546722 ,Gen loss : 2.222069025039673\n",
            "Steps : 62400 , Disc loss : 0.29677072167396545 ,Gen loss : 2.083106756210327\n",
            "Steps : 62600 , Disc loss : 0.27083462476730347 ,Gen loss : 2.2945756912231445\n",
            "Steps : 62800 , Disc loss : 0.2373158037662506 ,Gen loss : 2.2380926609039307\n",
            "Steps : 63000 , Disc loss : 0.36108171939849854 ,Gen loss : 2.3538248538970947\n",
            "Steps : 63200 , Disc loss : 0.3280112147331238 ,Gen loss : 2.1513376235961914\n",
            "Steps : 63400 , Disc loss : 0.2759319543838501 ,Gen loss : 2.1066670417785645\n",
            "Steps : 63600 , Disc loss : 0.2665384113788605 ,Gen loss : 2.1859748363494873\n",
            "Steps : 63800 , Disc loss : 0.3450774550437927 ,Gen loss : 2.204228401184082\n",
            "Steps : 64000 , Disc loss : 0.27433809638023376 ,Gen loss : 2.0940141677856445\n",
            "Steps : 64200 , Disc loss : 0.26975396275520325 ,Gen loss : 2.203678846359253\n",
            "Steps : 64400 , Disc loss : 0.3010387718677521 ,Gen loss : 2.199159622192383\n",
            "Steps : 64600 , Disc loss : 0.2893930971622467 ,Gen loss : 2.236194610595703\n",
            "Steps : 64800 , Disc loss : 0.34472304582595825 ,Gen loss : 2.1393871307373047\n",
            "Steps : 65000 , Disc loss : 0.30960363149642944 ,Gen loss : 2.184731960296631\n",
            "Steps : 65200 , Disc loss : 0.3044709265232086 ,Gen loss : 2.1565237045288086\n",
            "Steps : 65400 , Disc loss : 0.2656950354576111 ,Gen loss : 2.2020535469055176\n",
            "Steps : 65600 , Disc loss : 0.31830158829689026 ,Gen loss : 1.989128589630127\n",
            "Steps : 65800 , Disc loss : 0.25712084770202637 ,Gen loss : 2.043076515197754\n",
            "Steps : 66000 , Disc loss : 0.2560960054397583 ,Gen loss : 2.1357102394104004\n",
            "Steps : 66200 , Disc loss : 0.32348617911338806 ,Gen loss : 2.181344985961914\n",
            "Steps : 66400 , Disc loss : 0.21016140282154083 ,Gen loss : 2.3143813610076904\n",
            "Steps : 66600 , Disc loss : 0.24218513071537018 ,Gen loss : 2.1114652156829834\n",
            "Steps : 66800 , Disc loss : 0.2675565481185913 ,Gen loss : 2.3631694316864014\n",
            "Steps : 67000 , Disc loss : 0.2501477301120758 ,Gen loss : 2.2339022159576416\n",
            "Steps : 67200 , Disc loss : 0.2975350618362427 ,Gen loss : 2.0424821376800537\n",
            "Steps : 67400 , Disc loss : 0.28646141290664673 ,Gen loss : 2.1697311401367188\n",
            "Steps : 67600 , Disc loss : 0.2594176232814789 ,Gen loss : 2.203526496887207\n",
            "Steps : 67800 , Disc loss : 0.32782530784606934 ,Gen loss : 1.9636764526367188\n",
            "Steps : 68000 , Disc loss : 0.3198041021823883 ,Gen loss : 2.3176097869873047\n",
            "Steps : 68200 , Disc loss : 0.3425879180431366 ,Gen loss : 2.1990785598754883\n",
            "Steps : 68400 , Disc loss : 0.3304443359375 ,Gen loss : 2.1717758178710938\n",
            "Steps : 68600 , Disc loss : 0.2808384299278259 ,Gen loss : 2.1847171783447266\n",
            "Steps : 68800 , Disc loss : 0.28348350524902344 ,Gen loss : 2.361523389816284\n",
            "Steps : 69000 , Disc loss : 0.2910045087337494 ,Gen loss : 2.2822723388671875\n",
            "Steps : 69200 , Disc loss : 0.3322903513908386 ,Gen loss : 2.1507163047790527\n",
            "Steps : 69400 , Disc loss : 0.302371621131897 ,Gen loss : 2.2370247840881348\n",
            "Steps : 69600 , Disc loss : 0.30130401253700256 ,Gen loss : 2.196730613708496\n",
            "Steps : 69800 , Disc loss : 0.3328949213027954 ,Gen loss : 2.190013885498047\n",
            "Steps : 70000 , Disc loss : 0.29327309131622314 ,Gen loss : 2.2314910888671875\n",
            "Steps : 70200 , Disc loss : 0.2854324281215668 ,Gen loss : 2.135173797607422\n",
            "Steps : 70400 , Disc loss : 0.2700044810771942 ,Gen loss : 2.3098955154418945\n",
            "Steps : 70600 , Disc loss : 0.26578500866889954 ,Gen loss : 2.2576980590820312\n",
            "Steps : 70800 , Disc loss : 0.31305164098739624 ,Gen loss : 2.298661947250366\n",
            "Steps : 71000 , Disc loss : 0.3095967173576355 ,Gen loss : 2.1829495429992676\n",
            "Steps : 71200 , Disc loss : 0.2655143737792969 ,Gen loss : 2.297710418701172\n",
            "Steps : 71400 , Disc loss : 0.2970640957355499 ,Gen loss : 2.2589690685272217\n",
            "Steps : 71600 , Disc loss : 0.32194894552230835 ,Gen loss : 2.180119514465332\n",
            "Steps : 71800 , Disc loss : 0.2635995149612427 ,Gen loss : 2.177543878555298\n",
            "Steps : 72000 , Disc loss : 0.26970839500427246 ,Gen loss : 2.135627508163452\n",
            "Steps : 72200 , Disc loss : 0.33054810762405396 ,Gen loss : 2.2175867557525635\n",
            "Steps : 72400 , Disc loss : 0.2954838275909424 ,Gen loss : 2.179332971572876\n",
            "Steps : 72600 , Disc loss : 0.2713239789009094 ,Gen loss : 2.2345633506774902\n",
            "Steps : 72800 , Disc loss : 0.3323110342025757 ,Gen loss : 2.178778648376465\n",
            "Steps : 73000 , Disc loss : 0.384530246257782 ,Gen loss : 2.131136417388916\n",
            "Steps : 73200 , Disc loss : 0.27876943349838257 ,Gen loss : 2.275829792022705\n",
            "Steps : 73400 , Disc loss : 0.3529968857765198 ,Gen loss : 1.8740700483322144\n",
            "Steps : 73600 , Disc loss : 0.26143139600753784 ,Gen loss : 2.141226291656494\n",
            "Steps : 73800 , Disc loss : 0.2870787978172302 ,Gen loss : 2.2664871215820312\n",
            "Steps : 74000 , Disc loss : 0.29641813039779663 ,Gen loss : 2.0704102516174316\n",
            "Steps : 74200 , Disc loss : 0.30775830149650574 ,Gen loss : 2.372058391571045\n",
            "Steps : 74400 , Disc loss : 0.26890456676483154 ,Gen loss : 2.1770808696746826\n",
            "Steps : 74600 , Disc loss : 0.265826016664505 ,Gen loss : 2.160632371902466\n",
            "Steps : 74800 , Disc loss : 0.2976261377334595 ,Gen loss : 2.1981308460235596\n",
            "Steps : 75000 , Disc loss : 0.27713286876678467 ,Gen loss : 2.2292299270629883\n",
            "Steps : 75200 , Disc loss : 0.3686734735965729 ,Gen loss : 2.0780444145202637\n",
            "Steps : 75400 , Disc loss : 0.29796385765075684 ,Gen loss : 2.299478054046631\n",
            "Steps : 75600 , Disc loss : 0.23534391820430756 ,Gen loss : 2.4151010513305664\n",
            "Steps : 75800 , Disc loss : 0.32167306542396545 ,Gen loss : 2.202944040298462\n",
            "Steps : 76000 , Disc loss : 0.28666776418685913 ,Gen loss : 2.1377482414245605\n",
            "Steps : 76200 , Disc loss : 0.2770310938358307 ,Gen loss : 2.250687599182129\n",
            "Steps : 76400 , Disc loss : 0.32272323966026306 ,Gen loss : 2.0591721534729004\n",
            "Steps : 76600 , Disc loss : 0.2876633405685425 ,Gen loss : 2.2994627952575684\n",
            "Steps : 76800 , Disc loss : 0.2945941090583801 ,Gen loss : 2.326209545135498\n",
            "Steps : 77000 , Disc loss : 0.3373648524284363 ,Gen loss : 1.9916043281555176\n",
            "Steps : 77200 , Disc loss : 0.3779458999633789 ,Gen loss : 2.031066417694092\n",
            "Steps : 77400 , Disc loss : 0.29633671045303345 ,Gen loss : 2.3523030281066895\n",
            "Steps : 77600 , Disc loss : 0.31918764114379883 ,Gen loss : 2.0209834575653076\n",
            "Steps : 77800 , Disc loss : 0.29192906618118286 ,Gen loss : 2.127739191055298\n",
            "Steps : 78000 , Disc loss : 0.2965015769004822 ,Gen loss : 2.304363489151001\n",
            "Steps : 78200 , Disc loss : 0.28412845730781555 ,Gen loss : 2.2296347618103027\n",
            "Steps : 78400 , Disc loss : 0.26402002573013306 ,Gen loss : 2.1622366905212402\n",
            "Steps : 78600 , Disc loss : 0.30756646394729614 ,Gen loss : 2.1487154960632324\n",
            "Steps : 78800 , Disc loss : 0.320564329624176 ,Gen loss : 2.1061744689941406\n",
            "Steps : 79000 , Disc loss : 0.27041372656822205 ,Gen loss : 2.266479015350342\n",
            "Steps : 79200 , Disc loss : 0.28153541684150696 ,Gen loss : 2.158637523651123\n",
            "Steps : 79400 , Disc loss : 0.25192466378211975 ,Gen loss : 2.178225517272949\n",
            "Steps : 79600 , Disc loss : 0.3718206286430359 ,Gen loss : 2.1401848793029785\n",
            "Steps : 79800 , Disc loss : 0.23387032747268677 ,Gen loss : 2.350273609161377\n",
            "Steps : 80000 , Disc loss : 0.3065417408943176 ,Gen loss : 2.2829816341400146\n",
            "Steps : 80200 , Disc loss : 0.2524639666080475 ,Gen loss : 2.1045212745666504\n",
            "Steps : 80400 , Disc loss : 0.21531942486763 ,Gen loss : 2.2726125717163086\n",
            "Steps : 80600 , Disc loss : 0.262241005897522 ,Gen loss : 2.338669776916504\n",
            "Steps : 80800 , Disc loss : 0.2571776509284973 ,Gen loss : 2.344304084777832\n",
            "Steps : 81000 , Disc loss : 0.2334919422864914 ,Gen loss : 2.1570749282836914\n",
            "Steps : 81200 , Disc loss : 0.2864854335784912 ,Gen loss : 2.334182024002075\n",
            "Steps : 81400 , Disc loss : 0.2797869145870209 ,Gen loss : 2.246819257736206\n",
            "Steps : 81600 , Disc loss : 0.35064196586608887 ,Gen loss : 2.025747776031494\n",
            "Steps : 81800 , Disc loss : 0.3060934543609619 ,Gen loss : 2.1268858909606934\n",
            "Steps : 82000 , Disc loss : 0.27949798107147217 ,Gen loss : 2.0587868690490723\n",
            "Steps : 82200 , Disc loss : 0.3113877773284912 ,Gen loss : 2.349182605743408\n",
            "Steps : 82400 , Disc loss : 0.2942051589488983 ,Gen loss : 2.1114754676818848\n",
            "Steps : 82600 , Disc loss : 0.2533855736255646 ,Gen loss : 2.274195671081543\n",
            "Steps : 82800 , Disc loss : 0.33232247829437256 ,Gen loss : 2.1594350337982178\n",
            "Steps : 83000 , Disc loss : 0.2996065616607666 ,Gen loss : 2.267747163772583\n",
            "Steps : 83200 , Disc loss : 0.34259212017059326 ,Gen loss : 2.210052728652954\n",
            "Steps : 83400 , Disc loss : 0.22878645360469818 ,Gen loss : 2.3274033069610596\n",
            "Steps : 83600 , Disc loss : 0.31959956884384155 ,Gen loss : 2.1342837810516357\n",
            "Steps : 83800 , Disc loss : 0.2406061589717865 ,Gen loss : 2.204991340637207\n",
            "Steps : 84000 , Disc loss : 0.2976522445678711 ,Gen loss : 2.2065329551696777\n",
            "Steps : 84200 , Disc loss : 0.3271017074584961 ,Gen loss : 2.1318912506103516\n",
            "Steps : 84400 , Disc loss : 0.2376350611448288 ,Gen loss : 2.262875556945801\n",
            "Steps : 84600 , Disc loss : 0.34030306339263916 ,Gen loss : 2.1444480419158936\n",
            "Steps : 84800 , Disc loss : 0.2806212902069092 ,Gen loss : 2.1079695224761963\n",
            "Steps : 85000 , Disc loss : 0.25752952694892883 ,Gen loss : 2.363755702972412\n",
            "Steps : 85200 , Disc loss : 0.2652462124824524 ,Gen loss : 2.1097779273986816\n",
            "Steps : 85400 , Disc loss : 0.28369152545928955 ,Gen loss : 2.1339244842529297\n",
            "Steps : 85600 , Disc loss : 0.30350813269615173 ,Gen loss : 2.1440224647521973\n",
            "Steps : 85800 , Disc loss : 0.234233096241951 ,Gen loss : 2.2043232917785645\n",
            "Steps : 86000 , Disc loss : 0.2566298246383667 ,Gen loss : 2.2069454193115234\n",
            "Steps : 86200 , Disc loss : 0.30317017436027527 ,Gen loss : 2.215519666671753\n",
            "Steps : 86400 , Disc loss : 0.30013328790664673 ,Gen loss : 2.0050384998321533\n",
            "Steps : 86600 , Disc loss : 0.2848237156867981 ,Gen loss : 2.2839431762695312\n",
            "Steps : 86800 , Disc loss : 0.34267348051071167 ,Gen loss : 2.133953094482422\n",
            "Steps : 87000 , Disc loss : 0.3016735911369324 ,Gen loss : 2.0560779571533203\n",
            "Steps : 87200 , Disc loss : 0.2846340239048004 ,Gen loss : 2.0302491188049316\n",
            "Steps : 87400 , Disc loss : 0.30277135968208313 ,Gen loss : 2.2490386962890625\n",
            "Steps : 87600 , Disc loss : 0.27159324288368225 ,Gen loss : 2.2648158073425293\n",
            "Steps : 87800 , Disc loss : 0.26727160811424255 ,Gen loss : 2.1427533626556396\n",
            "Steps : 88000 , Disc loss : 0.2901257574558258 ,Gen loss : 2.405224323272705\n",
            "Steps : 88200 , Disc loss : 0.2986643612384796 ,Gen loss : 2.1600003242492676\n",
            "Steps : 88400 , Disc loss : 0.3703985810279846 ,Gen loss : 2.2327873706817627\n",
            "Steps : 88600 , Disc loss : 0.3226304054260254 ,Gen loss : 2.1700820922851562\n",
            "Steps : 88800 , Disc loss : 0.26266223192214966 ,Gen loss : 2.348012924194336\n",
            "Steps : 89000 , Disc loss : 0.24327707290649414 ,Gen loss : 2.09781551361084\n",
            "Steps : 89200 , Disc loss : 0.266376256942749 ,Gen loss : 2.05542254447937\n",
            "Steps : 89400 , Disc loss : 0.2527676820755005 ,Gen loss : 2.122877836227417\n",
            "Steps : 89600 , Disc loss : 0.2602974772453308 ,Gen loss : 2.1211657524108887\n",
            "Steps : 89800 , Disc loss : 0.3344016671180725 ,Gen loss : 2.0510013103485107\n",
            "Steps : 90000 , Disc loss : 0.24175232648849487 ,Gen loss : 2.2206528186798096\n",
            "Steps : 90200 , Disc loss : 0.2511352300643921 ,Gen loss : 2.1535911560058594\n",
            "Steps : 90400 , Disc loss : 0.2819727957248688 ,Gen loss : 2.06547474861145\n",
            "Steps : 90600 , Disc loss : 0.23557937145233154 ,Gen loss : 2.231914758682251\n",
            "Steps : 90800 , Disc loss : 0.22214752435684204 ,Gen loss : 2.317742347717285\n",
            "Steps : 91000 , Disc loss : 0.33462411165237427 ,Gen loss : 2.124793529510498\n",
            "Steps : 91200 , Disc loss : 0.26320141553878784 ,Gen loss : 2.239633321762085\n",
            "Steps : 91400 , Disc loss : 0.2745492458343506 ,Gen loss : 2.219226360321045\n",
            "Steps : 91600 , Disc loss : 0.2499222457408905 ,Gen loss : 2.1553866863250732\n",
            "Steps : 91800 , Disc loss : 0.321915864944458 ,Gen loss : 2.156707525253296\n",
            "Steps : 92000 , Disc loss : 0.2835763394832611 ,Gen loss : 2.068988561630249\n",
            "Steps : 92200 , Disc loss : 0.2499256581068039 ,Gen loss : 2.1607418060302734\n",
            "Steps : 92400 , Disc loss : 0.28404155373573303 ,Gen loss : 2.2965872287750244\n",
            "Steps : 92600 , Disc loss : 0.23662438988685608 ,Gen loss : 2.4109816551208496\n",
            "Steps : 92800 , Disc loss : 0.31418371200561523 ,Gen loss : 2.129934787750244\n",
            "Steps : 93000 , Disc loss : 0.26565366983413696 ,Gen loss : 2.1441221237182617\n",
            "Steps : 93200 , Disc loss : 0.31728529930114746 ,Gen loss : 2.2614622116088867\n",
            "Steps : 93400 , Disc loss : 0.31001409888267517 ,Gen loss : 2.164480447769165\n",
            "Steps : 93600 , Disc loss : 0.25182950496673584 ,Gen loss : 2.1320457458496094\n",
            "Steps : 93800 , Disc loss : 0.2765180170536041 ,Gen loss : 2.1382901668548584\n",
            "Steps : 94000 , Disc loss : 0.32011353969573975 ,Gen loss : 2.0308847427368164\n",
            "Steps : 94200 , Disc loss : 0.3330724239349365 ,Gen loss : 2.175126791000366\n",
            "Steps : 94400 , Disc loss : 0.2670048773288727 ,Gen loss : 2.1650137901306152\n",
            "Steps : 94600 , Disc loss : 0.2527146339416504 ,Gen loss : 2.1935551166534424\n",
            "Steps : 94800 , Disc loss : 0.2799961566925049 ,Gen loss : 2.2772223949432373\n",
            "Steps : 95000 , Disc loss : 0.2631853222846985 ,Gen loss : 2.309600830078125\n",
            "Steps : 95200 , Disc loss : 0.33041444420814514 ,Gen loss : 2.1766347885131836\n",
            "Steps : 95400 , Disc loss : 0.28797513246536255 ,Gen loss : 2.0919642448425293\n",
            "Steps : 95600 , Disc loss : 0.24170498549938202 ,Gen loss : 2.353677749633789\n",
            "Steps : 95800 , Disc loss : 0.288625031709671 ,Gen loss : 2.241400957107544\n",
            "Steps : 96000 , Disc loss : 0.2447434365749359 ,Gen loss : 2.346501350402832\n",
            "Steps : 96200 , Disc loss : 0.27965235710144043 ,Gen loss : 2.154207229614258\n",
            "Steps : 96400 , Disc loss : 0.29825836420059204 ,Gen loss : 2.000478982925415\n",
            "Steps : 96600 , Disc loss : 0.21901851892471313 ,Gen loss : 2.2474589347839355\n",
            "Steps : 96800 , Disc loss : 0.21354469656944275 ,Gen loss : 2.282416582107544\n",
            "Steps : 97000 , Disc loss : 0.27612465620040894 ,Gen loss : 2.0584256649017334\n",
            "Steps : 97200 , Disc loss : 0.27594950795173645 ,Gen loss : 2.230355739593506\n",
            "Steps : 97400 , Disc loss : 0.35442668199539185 ,Gen loss : 2.1299309730529785\n",
            "Steps : 97600 , Disc loss : 0.25968411564826965 ,Gen loss : 2.194502353668213\n",
            "Steps : 97800 , Disc loss : 0.28243398666381836 ,Gen loss : 2.258023738861084\n",
            "Steps : 98000 , Disc loss : 0.24342116713523865 ,Gen loss : 2.2607150077819824\n",
            "Steps : 98200 , Disc loss : 0.3124675154685974 ,Gen loss : 2.207698345184326\n",
            "Steps : 98400 , Disc loss : 0.2625371217727661 ,Gen loss : 2.200019359588623\n",
            "Steps : 98600 , Disc loss : 0.3152153789997101 ,Gen loss : 2.0412402153015137\n",
            "Steps : 98800 , Disc loss : 0.2669145464897156 ,Gen loss : 2.1241908073425293\n",
            "Steps : 99000 , Disc loss : 0.2797681391239166 ,Gen loss : 2.162299394607544\n",
            "Steps : 99200 , Disc loss : 0.27222323417663574 ,Gen loss : 2.1306681632995605\n",
            "Steps : 99400 , Disc loss : 0.2832176983356476 ,Gen loss : 2.2335379123687744\n",
            "Steps : 99600 , Disc loss : 0.2931215167045593 ,Gen loss : 2.2234983444213867\n",
            "Steps : 99800 , Disc loss : 0.22810208797454834 ,Gen loss : 2.213555335998535\n"
          ],
          "name": "stdout"
        }
      ]
    },
    {
      "cell_type": "code",
      "metadata": {
        "id": "vIT2LXAXWqh-",
        "colab_type": "code",
        "outputId": "df7a76c0-3130-4b7c-87b7-6737034a3e5e",
        "colab": {
          "base_uri": "https://localhost:8080/",
          "height": 924
        }
      },
      "source": [
        "n=6\n",
        "canvas1=np.empty((28*n,28*n))\n",
        "canvas2=np.empty((28*n,28*n))\n",
        "\n",
        "for i in range(n):\n",
        "  test_A=shuffle_data(X_train_real,batch_size)\n",
        "  test_B=shuffle_data(X_train_rot,batch_size)\n",
        "  out_A=sess.run(X_BA,feed_dict={X_B:test_B})\n",
        "  out_B=sess.run(X_AB,feed_dict={X_A:test_A})\n",
        "\n",
        "  for j in range(n):\n",
        "    canvas1[i*28:(i+1)*28,j*28:(j+1)*28]=out_A[j].reshape([28,28])\n",
        "  for j in range(n):\n",
        "    canvas2[i*28:(i+1)*28,j*28:(j+1)*28]=out_B[j].reshape([28,28])\n",
        "\n",
        "plt.figure(figsize=(n,n))\n",
        "plt.imshow(canvas1,origin=\"upper\",cmap=\"gray\")\n",
        "plt.show()\n",
        "\n",
        "plt.figure(figsize=(n,n))\n",
        "plt.imshow(canvas2,origin=\"upper\",cmap=\"gray\")\n",
        "plt.show()\n",
        "\n",
        "f,ax=plt.subplots(1,2)\n",
        "ax[0].imshow(canvas1,origin=\"upper\",cmap=\"gray\")\n",
        "ax[1].imshow(canvas2,origin=\"upper\",cmap=\"gray\")\n",
        "plt.show()"
      ],
      "execution_count": 62,
      "outputs": [
        {
          "output_type": "display_data",
          "data": {
            "image/png": "[encoded data removed]",
            "text/plain": [
              "<Figure size 432x432 with 1 Axes>"
            ]
          },
          "metadata": {
            "tags": []
          }
        },
        {
          "output_type": "display_data",
          "data": {
            "image/png": "[encoded data removed]",
            "text/plain": [
              "<Figure size 432x432 with 1 Axes>"
            ]
          },
          "metadata": {
            "tags": []
          }
        },
        {
          "output_type": "display_data",
          "data": {
            "image/png": "[encoded data removed]",
            "text/plain": [
              "<Figure size 432x288 with 2 Axes>"
            ]
          },
          "metadata": {
            "tags": []
          }
        }
      ]
    },
    {
      "cell_type": "code",
      "metadata": {
        "id": "Qg9yQsj4Wqvm",
        "colab_type": "code",
        "colab": {}
      },
      "source": [
        ""
      ],
      "execution_count": 0,
      "outputs": []
    }
  ]
}